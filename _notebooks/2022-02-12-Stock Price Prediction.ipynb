{
 "cells": [
  {
   "cell_type": "markdown",
   "id": "1a0dffef",
   "metadata": {},
   "source": [
    "# 股價預測\n",
    "> 透過線性回歸 (Linea Regression) 來預測股價.\n",
    "\n",
    "- toc: false \n",
    "- badges: true\n",
    "- comments: false\n",
    "- sticky_rank: 2\n",
    "- author: ChiHong Lin \n",
    "- categories: [python, prediction, jupyter, Linear Regression, Stock Price]\n"
   ]
  },
  {
   "cell_type": "markdown",
   "id": "fa4ad94f",
   "metadata": {},
   "source": [
    "#### 股價預測是機器學習在金融領域最重要的應用之一。在這篇文章中，我將嘗試透過使用 Python 的線性回歸模型來進行股票價格的預測。"
   ]
  },
  {
   "cell_type": "markdown",
   "id": "23679111",
   "metadata": {},
   "source": [
    "#### Stock Price Prediction\n",
    "\n",
    "預測股市的價格，一直是投資者的終極目標。 在每天數以億計的交易之中，每筆交易，都代表者投資者對於該股票的價格預期，並且期望透過交易獲利。\n",
    "\n",
    "也因此，股票漲跌，便取決於投資者在交易市場中的投資行為。 如果投資者能夠準確預測市場動向，便有機會創造誘人的財富。\n",
    "\n",
    "如果您具有股票市場的投資經驗以及機器學習的量化數據分析技能，對於您進行股票價格預測將會有明顯的助益。"
   ]
  },
  {
   "cell_type": "markdown",
   "id": "2aa074e9",
   "metadata": {},
   "source": [
    "我們來看看如何使用 python 來預測股票價格。\n",
    "\n",
    "首先，我們先導入此項專案所需的所有必要 python 函式庫："
   ]
  },
  {
   "cell_type": "code",
   "execution_count": 2,
   "id": "abcaf7a0",
   "metadata": {},
   "outputs": [],
   "source": [
    "import numpy as np\n",
    "import pandas as pd\n",
    "from sklearn import preprocessing\n",
    "from sklearn.model_selection import train_test_split\n",
    "from sklearn.linear_model import LinearRegression"
   ]
  },
  {
   "cell_type": "markdown",
   "id": "084a2c17",
   "metadata": {},
   "source": [
    "### 資料準備 Data Preparation\n",
    "\n",
    "在這裡，我們先建立一個子程式，協助我們將等會讀取進來的資料進行切割："
   ]
  },
  {
   "cell_type": "code",
   "execution_count": 21,
   "id": "72b3d930",
   "metadata": {},
   "outputs": [],
   "source": [
    "def prepare_data(df,forecast_col,forecast_out,test_size):\n",
    "    label = df[forecast_col].shift(-forecast_out) #建立一個新的序列，裡面的是5 {%forecast_out%}天後的股價（收盤價）\n",
    "    X = np.array(df[[forecast_col]])              #建立序列\n",
    "    X = preprocessing.scale(X)                    #將訓練資料進行特徵標準化(normalization)工作\n",
    "    X_lately = X[-forecast_out:]                  #建立等會用來進行預測的資料(資料集中最後5 {%forecast_out%}天的股價（收盤價）)\n",
    "    X = X[:-forecast_out]                         # 將資料集中最後的5{%forecast_out%}筆資料移除掉，亦即移除掉等下要作為預測用的資料\n",
    "    label.dropna(inplace=True)                    #通過**dropna()**過濾掉缺失的數據（亦即移除掉最後5筆數列）\n",
    "    y = np.array(label)  \n",
    "    X_train, X_test, Y_train, Y_test = train_test_split(X, y, test_size=test_size, random_state=0) #切割數據集\n",
    "\n",
    "    response = [X_train,X_test , Y_train, Y_test , X_lately]\n",
    "    return response"
   ]
  },
  {
   "cell_type": "markdown",
   "id": "3db2c942",
   "metadata": {},
   "source": [
    "為什麼要將資料進行切割呢？這是因為在機器學習的領域之中，資料將會分成以下4類資料來進行資料分析以及驗證：\n",
    "\n",
    "1. 訓練資料 <- 在訓練模型時所依據的基礎資料                 \n",
    "2. 訓練資料所對應的歷史結果 <- 在訓練模型時，透過基礎資料與歷史結果的關係，來建立數據模型\n",
    "3. 測試資料 <- 在數據模型建立之後，作為模型驗證實的基礎資料\n",
    "4. 測試資料所對應的歷史結果 <- 在訓練資料透過數據模模演算後的結過（預測），與相對應的歷史結果進行比較，以了解數據麼型的準確程度\n",
    "\n",
    "(上述的4類資料，都是來自於歷史資料)\n"
   ]
  },
  {
   "cell_type": "markdown",
   "id": "99686be2",
   "metadata": {},
   "source": [
    "接下來，我們開始讀取要進行分析的股價資料（以TESLA股價為例）"
   ]
  },
  {
   "cell_type": "code",
   "execution_count": 22,
   "id": "5fa92680",
   "metadata": {},
   "outputs": [],
   "source": [
    "df = pd.read_csv(\"datasource/TSLA.csv\")"
   ]
  },
  {
   "cell_type": "markdown",
   "id": "878ded2a",
   "metadata": {},
   "source": [
    "現在，我準備建立三個輸入變量供上面創建的子程式使用。包含了我們想要預測的資料欄位、訓練及驗證資料的分割比例、以及我們預計預測的天數。"
   ]
  },
  {
   "cell_type": "code",
   "execution_count": 8,
   "id": "143c3b05",
   "metadata": {},
   "outputs": [],
   "source": [
    "forecast_col = 'Close' # 在這個練習中，我選擇收盤價欄位作為訓練模型以及預測的欄位\n",
    "forecast_out = 5       # 在這個練習中，我規劃預測 5 天後的TESLA的收盤價\n",
    "test_size = 0.2        # 在這個練習中，我預計用來進行模型驗證的資料比例（在大多數的案例中，會採用20%。也就是0.2作為模型驗證之用）"
   ]
  },
  {
   "cell_type": "markdown",
   "id": "79788e36",
   "metadata": {},
   "source": [
    "## 建立並應用股價預測模型\n",
    "\n",
    "現在，我們開始將匯入的資料進行切割，並據此開始訓練線性回歸模型："
   ]
  },
  {
   "cell_type": "code",
   "execution_count": 23,
   "id": "daf4de00",
   "metadata": {},
   "outputs": [
    {
     "data": {
      "text/plain": [
       "LinearRegression()"
      ]
     },
     "execution_count": 23,
     "metadata": {},
     "output_type": "execute_result"
    }
   ],
   "source": [
    "X_train, X_test, Y_train, Y_test , X_lately =prepare_data(df,forecast_col,forecast_out,test_size); \n",
    "learner = LinearRegression() #定義以及初始化線性回歸模型\n",
    "learner.fit(X_train,Y_train) #訓練線性回歸模型"
   ]
  },
  {
   "cell_type": "markdown",
   "id": "4cb721c9",
   "metadata": {},
   "source": [
    "到這裡，模型已經訓練並且建立完畢，我們可以快速地了解模型準確度餅開始進行預測！"
   ]
  },
  {
   "cell_type": "code",
   "execution_count": 24,
   "id": "44ae0f7a",
   "metadata": {},
   "outputs": [
    {
     "name": "stdout",
     "output_type": "stream",
     "text": [
      "{'模型分數': 0.7901258449593493, '預測價格': array([738.10424235, 739.67504036, 747.39116981, 741.79828889,\n",
      "       722.43892968])}\n"
     ]
    }
   ],
   "source": [
    "score=learner.score(X_test,Y_test)  #  了解一下這個模型的準確程度（透過驗證資料比對）\n",
    "forecast= learner.predict(X_lately) # 提供基礎資料進行模型演算餅取得預測結果 （5 天後的TESLA的收盤價）\n",
    "response={}                         # creting json object\n",
    "response['模型分數']=score\n",
    "response['預測價格']=forecast\n",
    "\n",
    "print(response)"
   ]
  },
  {
   "cell_type": "markdown",
   "id": "c09b2cf5",
   "metadata": {},
   "source": [
    "## 總結\n",
    "\n",
    "這就是我們如何學習透過 Python 和機器學習中的線性回歸模型來預測股票價格。 希望你喜歡這篇文章。"
   ]
  },
  {
   "cell_type": "code",
   "execution_count": null,
   "id": "cc2b9d94",
   "metadata": {},
   "outputs": [],
   "source": []
  }
 ],
 "metadata": {
  "kernelspec": {
   "display_name": "Python 3 (ipykernel)",
   "language": "python",
   "name": "python3"
  },
  "language_info": {
   "codemirror_mode": {
    "name": "ipython",
    "version": 3
   },
   "file_extension": ".py",
   "mimetype": "text/x-python",
   "name": "python",
   "nbconvert_exporter": "python",
   "pygments_lexer": "ipython3",
   "version": "3.7.13"
  }
 },
 "nbformat": 4,
 "nbformat_minor": 5
}
